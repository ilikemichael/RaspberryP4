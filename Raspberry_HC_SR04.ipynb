{
  "nbformat": 4,
  "nbformat_minor": 0,
  "metadata": {
    "colab": {
      "name": "Raspberry-HC-SR04.ipynb",
      "provenance": [],
      "authorship_tag": "ABX9TyP2a9e9z3TdK9CbhpDEBz37",
      "include_colab_link": true
    },
    "kernelspec": {
      "name": "python3",
      "display_name": "Python 3"
    }
  },
  "cells": [
    {
      "cell_type": "markdown",
      "metadata": {
        "id": "view-in-github",
        "colab_type": "text"
      },
      "source": [
        "<a href=\"https://colab.research.google.com/github/ilikemichael/Raspberry_P4/blob/main/Raspberry_HC_SR04.ipynb\" target=\"_parent\"><img src=\"https://colab.research.google.com/assets/colab-badge.svg\" alt=\"Open In Colab\"/></a>"
      ]
    },
    {
      "cell_type": "code",
      "metadata": {
        "id": "cbvnflJxxGOF"
      },
      "source": [
        "import RPi.GPIO as GPIO\r\n",
        "import time\r\n",
        "GPIO.setmode(GPIO.BCM)\r\n",
        "\r\n",
        "TRIG = 23 \r\n",
        "ECHO = 24\r\n",
        "\r\n",
        "print \"Distance Measurement In Progress\"\r\n",
        "\r\n",
        "GPIO.setup(TRIG,GPIO.OUT)\r\n",
        "GPIO.setup(ECHO,GPIO.IN)\r\n",
        "try:\r\n",
        "    while True:\r\n",
        "\r\n",
        "        GPIO.output(TRIG, False)\r\n",
        "        print \"Waiting For Sensor To Settle\"\r\n",
        "        time.sleep(2)\r\n",
        "\r\n",
        "        GPIO.output(TRIG, True)\r\n",
        "        time.sleep(0.00001)\r\n",
        "        GPIO.output(TRIG, False)\r\n",
        "\r\n",
        "        while GPIO.input(ECHO)==0:\r\n",
        "          pulse_start = time.time()\r\n",
        "\r\n",
        "        while GPIO.input(ECHO)==1:\r\n",
        "          pulse_end = time.time()\r\n",
        "\r\n",
        "        pulse_duration = pulse_end - pulse_start\r\n",
        "\r\n",
        "        distance = pulse_duration * 17150\r\n",
        "\r\n",
        "        distance = round(distance, 2)\r\n",
        "\r\n",
        "        print \"Distance:\",distance,\"cm\"\r\n",
        "\r\n",
        "except KeyboardInterrupt: # If there is a KeyboardInterrupt (when you press ctrl+c), exit the program and cleanup\r\n",
        "    print(\"Cleaning up!\")\r\n",
        "    gpio.cleanup()"
      ],
      "execution_count": null,
      "outputs": []
    }
  ]
}